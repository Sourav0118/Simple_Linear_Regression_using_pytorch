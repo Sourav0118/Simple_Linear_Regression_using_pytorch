{
 "cells": [
  {
   "cell_type": "code",
   "execution_count": 2,
   "id": "4f2270c7",
   "metadata": {},
   "outputs": [],
   "source": [
    "import numpy as np\n",
    "import pandas as pd\n",
    "import matplotlib.pyplot as plt\n",
    "import torch\n",
    "from scipy.interpolate import make_interp_spline\n",
    "import torch.nn as nn\n",
    "from torch.utils.data import TensorDataset\n",
    "from torch.utils.data import DataLoader\n",
    "import torch.nn.functional as F"
   ]
  },
  {
   "cell_type": "raw",
   "id": "99e9b918",
   "metadata": {},
   "source": [
    "# Training Data\n",
    "\n",
    " the traing data can be reprsented using 2 matrices:\n",
    "     input and target each with one row per observation and one column per        variable\n",
    "\n",
    " region   temp(F)    rainfall(mm)  humidity(%)   apples(ton)  oranges(ton)\n",
    " kanto     73           67            43             56            70\n",
    " johto     91           88            64             81            101\n",
    " hoenn     87           134           58             119           133\n",
    " sinnoh    102          43            37             22            37\n",
    " unova     69           96            70             103           119"
   ]
  },
  {
   "cell_type": "code",
   "execution_count": 3,
   "id": "6433b0d1",
   "metadata": {},
   "outputs": [],
   "source": [
    "def model(x, weight, const):\n",
    "    return x @ weight + const\n",
    "\n",
    "def mean_sq_avg(t1, t2):\n",
    "    diff = t1-t2\n",
    "    diff = diff**2\n",
    "    return torch.sum(diff)/diff.numel()\n",
    "\n",
    "def sorting(x, y):\n",
    "    j=1\n",
    "    for i in range(0, x.size):\n",
    "        while j<x.size:\n",
    "            if x[i]>x[j]:\n",
    "                temp=y[i]\n",
    "                y[i]=y[j]\n",
    "                y[j]=temp\n",
    "            j=j+1\n",
    "    return y"
   ]
  },
  {
   "cell_type": "code",
   "execution_count": 4,
   "id": "3e409d1c",
   "metadata": {},
   "outputs": [],
   "source": [
    "# Input (temp, rainfall, humidity)\n",
    "\n",
    "inputs = np.array([[73, 67, 43],\n",
    "                   [91, 88, 64],\n",
    "                   [87, 134, 58],\n",
    "                   [102, 43, 37],\n",
    "                   [69, 96, 70]], dtype='float32')\n",
    "\n",
    "# Target (aplles, oranges)\n",
    "\n",
    "target = np.array([[56, 70],\n",
    "                   [81, 101],\n",
    "                   [119, 133],\n",
    "                   [22, 37],\n",
    "                   [103, 119]], dtype='float32')\n",
    "\n",
    "inputs = torch.from_numpy(inputs)\n",
    "target = torch.from_numpy(target)"
   ]
  },
  {
   "cell_type": "markdown",
   "id": "c2ee0a6d",
   "metadata": {},
   "source": [
    " yield apple = w11.T + w12.R + w13.H + b1\n",
    " yield orange = w21.T + w22.R + w23.H + b2\n",
    " here we can see that (w1, w2, w3) form a matrix W, (T, R, H) from a matrix X and b1 forms a vector b\n",
    " we can write each eqn as Y = X x W + b"
   ]
  },
  {
   "cell_type": "code",
   "execution_count": 5,
   "id": "085ef19d",
   "metadata": {},
   "outputs": [
    {
     "name": "stdout",
     "output_type": "stream",
     "text": [
      "w=\n",
      "tensor([[ 0.3357,  2.0423],\n",
      "        [ 0.8007, -1.0167],\n",
      "        [ 1.7232, -0.1863]], requires_grad=True)\n",
      "b=\n",
      "tensor([-1.1008, -1.4984], requires_grad=True)\n",
      "prediction=  tensor([[151.1454,  71.4557],\n",
      "        [210.1885,  82.9525],\n",
      "        [235.3365,  29.1309],\n",
      "        [131.3258, 156.2025],\n",
      "        [219.5476,  28.7697]], grad_fn=<AddBackward0>)\n"
     ]
    }
   ],
   "source": [
    "w = torch.randn(3, 2, requires_grad=True)\n",
    "b = torch.randn(2, requires_grad=True)\n",
    "\n",
    "print(\"w=\")\n",
    "print(w)\n",
    "print(\"b=\")\n",
    "print(b)\n",
    "prediction = model(inputs, w, b)\n",
    "print(\"prediction= \", prediction)"
   ]
  },
  {
   "cell_type": "markdown",
   "id": "0177104c",
   "metadata": {},
   "source": [
    "we can see that our prediction matrix is completly unequal to the target matrix. this is because we have used random values of w and b. therefore we need to make a loss function first we will make a difference matrix of target and predicted matrices. to remove the negative values we will square the matrix and then find the mean sqr avg value of the elements\n",
    "    then the avg diff will be the sqrt of the mean sqr avg value this avg diff is called the loss and lower if the loss lower is the lower is the loss of data."
   ]
  },
  {
   "cell_type": "code",
   "execution_count": 6,
   "id": "42b5cadf",
   "metadata": {},
   "outputs": [
    {
     "name": "stdout",
     "output_type": "stream",
     "text": [
      "loss=  tensor(9827.9355, grad_fn=<DivBackward0>)\n"
     ]
    }
   ],
   "source": [
    "loss = mean_sq_avg(target, prediction)\n",
    "print(\"loss= \", loss)\n",
    "loss.backward()"
   ]
  },
  {
   "cell_type": "code",
   "execution_count": 7,
   "id": "8772e1a9",
   "metadata": {},
   "outputs": [
    {
     "name": "stdout",
     "output_type": "stream",
     "text": [
      "loss_wrt_w= \n",
      "tensor([[ 9603.2139,  -927.9810],\n",
      "        [ 9844.4004, -3789.1021],\n",
      "        [ 6262.0449, -1804.4966]])\n",
      "loss_wrt_b= \n",
      "tensor([113.3088, -18.2977])\n"
     ]
    }
   ],
   "source": [
    "# now we will find the loss w.r.t each Wij\n",
    "# therfore we need to take the derivative of the loss wrt to each Wij\n",
    "\n",
    "loss_wrt_w = w.grad\n",
    "loss_wrt_b = b.grad\n",
    "print(\"loss_wrt_w= \")\n",
    "print(loss_wrt_w)\n",
    "print(\"loss_wrt_b= \")\n",
    "print(loss_wrt_b)"
   ]
  },
  {
   "cell_type": "code",
   "execution_count": 8,
   "id": "98175ec1",
   "metadata": {},
   "outputs": [
    {
     "data": {
      "image/png": "[encoded data removed]",
      "text/plain": [
       "<Figure size 640x480 with 1 Axes>"
      ]
     },
     "metadata": {},
     "output_type": "display_data"
    }
   ],
   "source": [
    "# ploting curve between num1 and num2\n",
    "\n",
    "num1 = w.detach().numpy()\n",
    "num2 = loss_wrt_w.detach().numpy()\n",
    "num1 = num1.flatten()\n",
    "num2 = num2.flatten()\n",
    "num2 = sorting(num1, num2)\n",
    "num1.sort()\n",
    "X_Y_Spline = make_interp_spline(num1, num2)\n",
    "X_ = np.linspace(num1.min(), num1.max(), 500)\n",
    "Y_ = X_Y_Spline(X_)\n",
    "plt.plot(X_, Y_)\n",
    "plt.title(\"relation btw wieght and losses\")\n",
    "plt.xlabel(\"weight\")\n",
    "plt.ylabel(\"losses\")\n",
    "plt.show()"
   ]
  },
  {
   "cell_type": "markdown",
   "id": "0932a52e",
   "metadata": {},
   "source": [
    "if we look into the graph, the wieghts have a local minima near them. so to  minimize the losses we will have to shift the weight to the neighbour of the local minima. therefore we will have to subtract a small proportion of the gradient from the wieght matrix"
   ]
  },
  {
   "cell_type": "code",
   "execution_count": 9,
   "id": "d2bbdf91",
   "metadata": {},
   "outputs": [
    {
     "name": "stdout",
     "output_type": "stream",
     "text": [
      "updated w=\n",
      "tensor([[ 0.2397,  2.0516],\n",
      "        [ 0.7022, -0.9789],\n",
      "        [ 1.6606, -0.1683]], requires_grad=True)\n",
      "updated b= \n",
      "tensor([-1.1019, -1.4983], requires_grad=True)\n",
      "new loss=  tensor(7577.3516, grad_fn=<DivBackward0>)\n"
     ]
    }
   ],
   "source": [
    "with torch.no_grad():\n",
    "    w-=loss_wrt_w * 1e-5\n",
    "    b-=loss_wrt_b * 1e-5\n",
    "    w.grad.zero_()\n",
    "    b.grad.zero_()\n",
    "\n",
    "print(\"updated w=\")\n",
    "print(w)\n",
    "print(\"updated b= \")\n",
    "print(b)\n",
    "\n",
    "prediction = model(inputs, w, b)\n",
    "loss = mean_sq_avg(target, prediction)\n",
    "print(\"new loss= \", loss)"
   ]
  },
  {
   "cell_type": "code",
   "execution_count": 10,
   "id": "5f726ca3",
   "metadata": {},
   "outputs": [
    {
     "name": "stdout",
     "output_type": "stream",
     "text": [
      "new w=\n",
      "tensor([[-0.4072, -0.2736],\n",
      "        [ 0.8222,  0.8221],\n",
      "        [ 0.7597,  0.8495]], requires_grad=True)\n",
      "new b=\n",
      "tensor([-1.1129, -1.5100], requires_grad=True)\n",
      "new loss=\n",
      "tensor(1.0096, grad_fn=<DivBackward0>)\n",
      "prediction\n",
      "tensor([[ 56.9205,  70.1196],\n",
      "        [ 82.8124, 100.2963],\n",
      "        [117.7057, 134.1086],\n",
      "        [ 20.8200,  37.3578],\n",
      "        [102.9069, 117.9897]], grad_fn=<AddBackward0>)\n",
      "target\n",
      "tensor([[ 56.,  70.],\n",
      "        [ 81., 101.],\n",
      "        [119., 133.],\n",
      "        [ 22.,  37.],\n",
      "        [103., 119.]])\n"
     ]
    }
   ],
   "source": [
    "# now we will try to reduce the loss as much as possible. therefore we will continuosly\n",
    "# improve the w matrix. these iterations are called *epochs*\n",
    "\n",
    "while(True):\n",
    "    loss.backward()\n",
    "    loss_wrt_w = w.grad\n",
    "    loss_wrt_b = b.grad\n",
    "    with torch.no_grad():\n",
    "        w-=loss_wrt_w * 1e-5\n",
    "        b-=loss_wrt_b * 1e-5\n",
    "        w.grad.zero_()\n",
    "        b.grad.zero_()\n",
    "    prediction = model(inputs, w, b)\n",
    "    loss = mean_sq_avg(target, prediction)\n",
    "    #print(\"new loss= \", loss)\n",
    "    if loss<1.01:\n",
    "        break\n",
    "\n",
    "print(\"new w=\")\n",
    "print(w)\n",
    "print(\"new b=\")\n",
    "print(b)\n",
    "print(\"new loss=\")\n",
    "print(loss)\n",
    "print(\"prediction\")\n",
    "print(prediction)\n",
    "print(\"target\")\n",
    "print(target)"
   ]
  },
  {
   "cell_type": "code",
   "execution_count": 11,
   "id": "0c453924",
   "metadata": {},
   "outputs": [],
   "source": [
    "# now we will work on a bigger data set\n",
    "\n",
    "inputs = np.array([[73,67,43],[91,88,64],[87,134,58],\n",
    "                  [102,43,37],[69,96,70],[73,67,43],\n",
    "                  [91,88,64],[87,134,58],[102,43,37],\n",
    "                  [69,96,70],[73,67,43],[91,88,64],\n",
    "                  [87,134,58],[102,43,37],[69,96,70]], dtype = \"float32\")\n",
    "\n",
    "target = np.array([[56, 70],[81, 101],[119, 133],\n",
    "                   [22, 37],[103, 119],[56, 70],\n",
    "                   [81, 101],[119, 133],[22, 37],\n",
    "                   [103, 119],[56, 70],[81, 101],\n",
    "                   [119, 133],[22, 37],[103, 119]], dtype = \"float32\")\n",
    "\n",
    "inputs = torch.from_numpy(inputs)\n",
    "target = torch.from_numpy(target)"
   ]
  },
  {
   "cell_type": "markdown",
   "id": "5b8633e2",
   "metadata": {},
   "source": [
    "# DATASET and DATALOADER\n",
    "\n",
    "we'll create a TensorDataSet, which allows access to rows from inputs an target as tuples and provide standard API's for working with many different types of datasets in pytorch\n",
    "\n",
    "the TensorDataSet allows us to access a small section od the training data using the array indexing notation. It returns a tuple in which the first element contains the input variables for the selected rows and the second contains the target\n",
    "\n",
    "We will also create a DataLoader, which can split the data into batches of a predefined size while training. It also provides other utilities like shuffling and random sampling of the data "
   ]
  },
  {
   "cell_type": "code",
   "execution_count": 12,
   "id": "cd777cdd",
   "metadata": {},
   "outputs": [
    {
     "name": "stdout",
     "output_type": "stream",
     "text": [
      "(tensor([[ 73.,  67.,  43.],\n",
      "        [ 91.,  88.,  64.],\n",
      "        [ 87., 134.,  58.],\n",
      "        [102.,  43.,  37.],\n",
      "        [ 69.,  96.,  70.],\n",
      "        [ 73.,  67.,  43.],\n",
      "        [ 91.,  88.,  64.],\n",
      "        [ 87., 134.,  58.],\n",
      "        [102.,  43.,  37.],\n",
      "        [ 69.,  96.,  70.],\n",
      "        [ 73.,  67.,  43.],\n",
      "        [ 91.,  88.,  64.],\n",
      "        [ 87., 134.,  58.],\n",
      "        [102.,  43.,  37.],\n",
      "        [ 69.,  96.,  70.]]), tensor([[ 56.,  70.],\n",
      "        [ 81., 101.],\n",
      "        [119., 133.],\n",
      "        [ 22.,  37.],\n",
      "        [103., 119.],\n",
      "        [ 56.,  70.],\n",
      "        [ 81., 101.],\n",
      "        [119., 133.],\n",
      "        [ 22.,  37.],\n",
      "        [103., 119.],\n",
      "        [ 56.,  70.],\n",
      "        [ 81., 101.],\n",
      "        [119., 133.],\n",
      "        [ 22.,  37.],\n",
      "        [103., 119.]]))\n",
      "(tensor([[ 91.,  88.,  64.],\n",
      "        [102.,  43.,  37.],\n",
      "        [ 73.,  67.,  43.],\n",
      "        [ 87., 134.,  58.]]), tensor([[ 81., 101.],\n",
      "        [ 22.,  37.],\n",
      "        [ 56.,  70.],\n",
      "        [119., 133.]]))\n"
     ]
    }
   ],
   "source": [
    "train_ds = TensorDataset(inputs, target)\n",
    "print(train_ds[:])\n",
    "print(train_ds[[1,3,5,7]])"
   ]
  },
  {
   "cell_type": "code",
   "execution_count": 13,
   "id": "85028ac3",
   "metadata": {},
   "outputs": [
    {
     "name": "stdout",
     "output_type": "stream",
     "text": [
      "tensor([[ 73.,  67.,  43.],\n",
      "        [ 69.,  96.,  70.],\n",
      "        [ 91.,  88.,  64.],\n",
      "        [ 87., 134.,  58.],\n",
      "        [ 69.,  96.,  70.]])\n",
      "tensor([[ 56.,  70.],\n",
      "        [103., 119.],\n",
      "        [ 81., 101.],\n",
      "        [119., 133.],\n",
      "        [103., 119.]])\n",
      "tensor([[ 87., 134.,  58.],\n",
      "        [102.,  43.,  37.],\n",
      "        [102.,  43.,  37.],\n",
      "        [102.,  43.,  37.],\n",
      "        [ 91.,  88.,  64.]])\n",
      "tensor([[119., 133.],\n",
      "        [ 22.,  37.],\n",
      "        [ 22.,  37.],\n",
      "        [ 22.,  37.],\n",
      "        [ 81., 101.]])\n",
      "tensor([[ 73.,  67.,  43.],\n",
      "        [ 73.,  67.,  43.],\n",
      "        [ 87., 134.,  58.],\n",
      "        [ 91.,  88.,  64.],\n",
      "        [ 69.,  96.,  70.]])\n",
      "tensor([[ 56.,  70.],\n",
      "        [ 56.,  70.],\n",
      "        [119., 133.],\n",
      "        [ 81., 101.],\n",
      "        [103., 119.]])\n"
     ]
    }
   ],
   "source": [
    "train_dl = DataLoader(train_ds, 5, shuffle=True)\n",
    "for xb, yb in train_dl:\n",
    "    print(xb)\n",
    "    print(yb)"
   ]
  },
  {
   "cell_type": "raw",
   "id": "aa9cd74f",
   "metadata": {},
   "source": [
    "train_dl = DataLoader(train_ds, 6, shuffle=True)\n",
    "for xb, yb in train_dl:\n",
    "    print(xb)\n",
    "    print(yb)\n",
    "\n",
    "tensor([[ 91.,  88.,  64.],\n",
    "        [ 69.,  96.,  70.],\n",
    "        [ 73.,  67.,  43.],\n",
    "        [102.,  43.,  37.],\n",
    "        [ 91.,  88.,  64.],\n",
    "        [102.,  43.,  37.]])\n",
    "tensor([[ 81., 101.],\n",
    "        [103., 119.],\n",
    "        [ 56.,  70.],\n",
    "        [ 22.,  37.],\n",
    "        [ 81., 101.],\n",
    "        [ 22.,  37.]])\n",
    "tensor([[ 87., 134.,  58.],\n",
    "        [ 73.,  67.,  43.],\n",
    "        [ 73.,  67.,  43.],\n",
    "        [102.,  43.,  37.],\n",
    "        [ 69.,  96.,  70.],\n",
    "        [ 91.,  88.,  64.]])\n",
    "tensor([[119., 133.],\n",
    "        [ 56.,  70.],\n",
    "        [ 56.,  70.],\n",
    "        [ 22.,  37.],\n",
    "        [103., 119.],\n",
    "        [ 81., 101.]])\n",
    "tensor([[ 69.,  96.,  70.],\n",
    "        [ 87., 134.,  58.],\n",
    "        [ 87., 134.,  58.]])\n",
    "tensor([[103., 119.],\n",
    "        [119., 133.],\n",
    "        [119., 133.]])"
   ]
  },
  {
   "cell_type": "markdown",
   "id": "fc245a75",
   "metadata": {},
   "source": [
    "# nn.Linear\n",
    "#### Instead of initializing the weigths & biases manually, we can define the model using the nn.Linear class from the PyTorch, which does it automatically"
   ]
  },
  {
   "cell_type": "code",
   "execution_count": 14,
   "id": "36a4dde5",
   "metadata": {},
   "outputs": [
    {
     "name": "stdout",
     "output_type": "stream",
     "text": [
      "Parameter containing:\n",
      "tensor([[ 0.0705, -0.4928, -0.1836],\n",
      "        [ 0.0575,  0.0426,  0.2391]], requires_grad=True)\n",
      "Parameter containing:\n",
      "tensor([-0.0173, -0.0282], requires_grad=True)\n"
     ]
    }
   ],
   "source": [
    "# define model\n",
    "\n",
    "mod = nn.Linear(3,2)\n",
    "# 3 because we have 3 columns in weight matrix\n",
    "# 2 because we have 2 columns in b matrix\n",
    "print(mod.weight)\n",
    "print(mod.bias)"
   ]
  },
  {
   "cell_type": "code",
   "execution_count": 15,
   "id": "9929ed8d",
   "metadata": {},
   "outputs": [
    {
     "name": "stdout",
     "output_type": "stream",
     "text": [
      "tensor([[-35.7836,  17.2976],\n",
      "        [-48.7195,  24.2458],\n",
      "        [-70.5704,  24.5390],\n",
      "        [-20.8081,  16.5087],\n",
      "        [-55.3158,  24.7561],\n",
      "        [-35.7836,  17.2976],\n",
      "        [-48.7195,  24.2458],\n",
      "        [-70.5704,  24.5390],\n",
      "        [-20.8081,  16.5087],\n",
      "        [-55.3158,  24.7561],\n",
      "        [-35.7836,  17.2976],\n",
      "        [-48.7195,  24.2458],\n",
      "        [-70.5704,  24.5390],\n",
      "        [-20.8081,  16.5087],\n",
      "        [-55.3158,  24.7561]], grad_fn=<AddmmBackward0>)\n"
     ]
    }
   ],
   "source": [
    "preds = mod(inputs)\n",
    "print(preds)\n",
    "t = list(mod.parameters())\n",
    "# preds = model(inputs, mod.weight.t(), mod.bias)\n",
    "# print(preds)"
   ]
  },
  {
   "cell_type": "markdown",
   "id": "5ccb53cb",
   "metadata": {},
   "source": [
    "# Loss Function\n",
    "#### Instead of definging a loss function manually, we can use the built-in loss function mse_loss"
   ]
  },
  {
   "cell_type": "code",
   "execution_count": 16,
   "id": "7a6ec184",
   "metadata": {},
   "outputs": [
    {
     "name": "stdout",
     "output_type": "stream",
     "text": [
      "tensor(11781.9062, grad_fn=<MseLossBackward0>)\n"
     ]
    }
   ],
   "source": [
    "# define a loss function\n",
    "loss_fn = F.mse_loss\n",
    "loss = loss_fn(mod(inputs), target)\n",
    "print(loss)"
   ]
  },
  {
   "cell_type": "markdown",
   "id": "77196a96",
   "metadata": {},
   "source": [
    "# Optimizer\n",
    "#### Instead of manully manipulating the models weight & biases using gradients, we can use the optimizer optim.SGD. SGD stands for stochastic gradient descent. It is called stochastic because samples are selected in batches  instead of as a single group"
   ]
  },
  {
   "cell_type": "code",
   "execution_count": 17,
   "id": "eeb3f11b",
   "metadata": {},
   "outputs": [],
   "source": [
    "# define optimizer\n",
    "opt = torch.optim.SGD(mod.parameters(), lr=1e-5)\n",
    "\n",
    "# lr stands for the learning rate which we can specify"
   ]
  },
  {
   "cell_type": "markdown",
   "id": "e1456b45",
   "metadata": {},
   "source": [
    "# Train the model\n",
    "\n",
    "### we are now ready to train the model. \n",
    "\n",
    "#### 1. Generate predictions\n",
    "#### 2. calculate the loss\n",
    "#### 3. compute gradients wrt weights and biases\n",
    "#### 4. adjust the weight by subtracting a small quantity propotional to the gradient \n",
    "#### 5. Reset the gradient to zero\n",
    "\n",
    "##### The only change i sthat we'll work batches of data instead of processing the entire training data in every iteration. Let's define a utility function fit which trains the model for a given number of epoches"
   ]
  },
  {
   "cell_type": "code",
   "execution_count": 18,
   "id": "021a295a",
   "metadata": {},
   "outputs": [
    {
     "name": "stdout",
     "output_type": "stream",
     "text": [
      "Epoch [10/300], loss: 187.1960\n",
      "Epoch [20/300], loss: 40.1257\n",
      "Epoch [30/300], loss: 383.2818\n",
      "Epoch [40/300], loss: 63.6820\n",
      "Epoch [50/300], loss: 83.0364\n",
      "Epoch [60/300], loss: 67.0860\n",
      "Epoch [70/300], loss: 80.2449\n",
      "Epoch [80/300], loss: 44.7862\n",
      "Epoch [90/300], loss: 48.1691\n",
      "Epoch [100/300], loss: 30.6769\n",
      "Epoch [110/300], loss: 20.0414\n",
      "Epoch [120/300], loss: 16.1089\n",
      "Epoch [130/300], loss: 7.2776\n",
      "Epoch [140/300], loss: 8.8952\n",
      "Epoch [150/300], loss: 11.5194\n",
      "Epoch [160/300], loss: 7.4423\n",
      "Epoch [170/300], loss: 12.2119\n",
      "Epoch [180/300], loss: 7.5030\n",
      "Epoch [190/300], loss: 10.1707\n",
      "Epoch [200/300], loss: 4.0217\n",
      "Epoch [210/300], loss: 8.0456\n",
      "Epoch [220/300], loss: 8.4909\n",
      "Epoch [230/300], loss: 7.5193\n",
      "Epoch [240/300], loss: 7.4864\n",
      "Epoch [250/300], loss: 4.4625\n",
      "Epoch [260/300], loss: 6.4591\n",
      "Epoch [270/300], loss: 6.6691\n",
      "Epoch [280/300], loss: 3.8158\n",
      "Epoch [290/300], loss: 6.4389\n",
      "Epoch [300/300], loss: 3.4629\n"
     ]
    }
   ],
   "source": [
    "# Utility function\n",
    "def fit(num_epochs, model, loss_fn, opt):\n",
    "    for i in range(num_epochs):\n",
    "        for xb, yb in train_dl:\n",
    "            pred = model(xb)\n",
    "            loss = loss_fn(pred, yb)\n",
    "            loss.backward()\n",
    "            opt.step()  # update parameters using gardients\n",
    "            opt.zero_grad()\n",
    "        if (i+1)%10 == 0:\n",
    "            print(\"Epoch [{}/{}], loss: {:.4f}\".format(i+1, num_epochs, loss.item()))\n",
    "            # .item() gives the numerical value out of it, since the loss function is a tensor\n",
    "\n",
    "fit(300, mod, loss_fn, opt)"
   ]
  },
  {
   "cell_type": "code",
   "execution_count": 19,
   "id": "ef9d7084",
   "metadata": {},
   "outputs": [
    {
     "name": "stdout",
     "output_type": "stream",
     "text": [
      "tensor([[ 57.3285,  70.4716],\n",
      "        [ 81.0217,  99.4752],\n",
      "        [121.0638, 135.4166],\n",
      "        [ 21.9661,  37.8543],\n",
      "        [ 99.3435, 116.5637],\n",
      "        [ 57.3285,  70.4716],\n",
      "        [ 81.0217,  99.4752],\n",
      "        [121.0638, 135.4166],\n",
      "        [ 21.9661,  37.8543],\n",
      "        [ 99.3435, 116.5637],\n",
      "        [ 57.3285,  70.4716],\n",
      "        [ 81.0217,  99.4752],\n",
      "        [121.0638, 135.4166],\n",
      "        [ 21.9661,  37.8543],\n",
      "        [ 99.3435, 116.5637]], grad_fn=<AddmmBackward0>)\n"
     ]
    }
   ],
   "source": [
    "pred = mod(inputs)\n",
    "print(pred)"
   ]
  },
  {
   "cell_type": "code",
   "execution_count": 20,
   "id": "db65354a",
   "metadata": {},
   "outputs": [
    {
     "name": "stdout",
     "output_type": "stream",
     "text": [
      "tensor([[ 56.,  70.],\n",
      "        [ 81., 101.],\n",
      "        [119., 133.],\n",
      "        [ 22.,  37.],\n",
      "        [103., 119.],\n",
      "        [ 56.,  70.],\n",
      "        [ 81., 101.],\n",
      "        [119., 133.],\n",
      "        [ 22.,  37.],\n",
      "        [103., 119.],\n",
      "        [ 56.,  70.],\n",
      "        [ 81., 101.],\n",
      "        [119., 133.],\n",
      "        [ 22.,  37.],\n",
      "        [103., 119.]])\n"
     ]
    }
   ],
   "source": [
    "print(target)"
   ]
  },
  {
   "cell_type": "code",
   "execution_count": 23,
   "id": "033ce26d",
   "metadata": {},
   "outputs": [
    {
     "name": "stdout",
     "output_type": "stream",
     "text": [
      "Parameter containing:\n",
      "tensor([[-0.3587,  0.9081,  0.5276],\n",
      "        [-0.2612,  0.8563,  0.7487]], requires_grad=True)\n",
      "Parameter containing:\n",
      "tensor([-0.0164, -0.0276], requires_grad=True)\n"
     ]
    }
   ],
   "source": [
    "print(mod.weight)\n",
    "print(mod.bias)"
   ]
  },
  {
   "cell_type": "code",
   "execution_count": 24,
   "id": "bf9f5143",
   "metadata": {},
   "outputs": [],
   "source": [
    "w = mod.weight\n",
    "b = mod.bias\n",
    "w11, w12, w13 = w[0,0], w[0,1], w[0,2]\n",
    "w21, w22, w23 = w[1,0], w[1,1], w[1,2]\n",
    "b1, b2 = b[0], b[1]"
   ]
  },
  {
   "cell_type": "code",
   "execution_count": 26,
   "id": "5203ed71",
   "metadata": {},
   "outputs": [
    {
     "name": "stdout",
     "output_type": "stream",
     "text": [
      "temp: 50\n",
      "humidity: 30\n",
      "rainfall: 60\n",
      "Apple production will be more!\n"
     ]
    }
   ],
   "source": [
    "temp = float(input(\"temp: \"))\n",
    "humi = float(input(\"humidity: \"))\n",
    "rain = float(input(\"rainfall: \"))\n",
    "orange = w11*temp + w12*humi + w13*rain + b2\n",
    "apple = w21*temp + w22*humi + w23*rain + b1\n",
    "if apple>orange:\n",
    "    print(\"Apple production will be more!\")\n",
    "elif orange>apple:\n",
    "    print(\"Orange production will be more!\")\n",
    "else:\n",
    "    print(\"Both will have the same production!\")"
   ]
  },
  {
   "attachments": {},
   "cell_type": "markdown",
   "id": "f2872801",
   "metadata": {},
   "source": [
    "# Just for fun"
   ]
  },
  {
   "cell_type": "code",
   "execution_count": 1,
   "id": "5d6991d8",
   "metadata": {},
   "outputs": [
    {
     "data": {
      "image/png": "[encoded data removed]",
      "text/plain": [
       "<Figure size 800x600 with 1 Axes>"
      ]
     },
     "metadata": {},
     "output_type": "display_data"
    }
   ],
   "source": [
    "import numpy as np\n",
    "import matplotlib.pyplot as plt\n",
    "import scipy.stats as stats\n",
    "\n",
    "# Generate data for a normal distribution\n",
    "mean = 0\n",
    "std_dev = 1\n",
    "x = np.linspace(-4*std_dev, 4*std_dev, 1000)\n",
    "y = stats.norm.pdf(x, mean, std_dev)\n",
    "\n",
    "# Create the plot\n",
    "fig, ax = plt.subplots(figsize=(8, 6))\n",
    "ax.plot(x, y, color='blue', label='Normal Distribution')\n",
    "\n",
    "# Shade the areas under the curve\n",
    "ax.fill_between(x, y, where=(x >= mean - std_dev) & (x <= mean + std_dev), color='lightblue', alpha=0.5, label='68%')\n",
    "ax.fill_between(x, y, where=(x >= mean - 2*std_dev) & (x <= mean + 2*std_dev), color='orange', alpha=0.5, label='95%')\n",
    "ax.fill_between(x, y, where=(x >= mean - 3*std_dev) & (x <= mean + 3*std_dev), color='green', alpha=0.5, label='99.7%')\n",
    "\n",
    "# Add labels and legend\n",
    "ax.set_title('68-95-99.7 Rule in Normal Distribution')\n",
    "ax.set_xlabel('Standard Deviations from Mean')\n",
    "ax.set_ylabel('Probability Density')\n",
    "ax.legend()\n",
    "\n",
    "plt.show()\n"
   ]
  },
  {
   "cell_type": "code",
   "execution_count": 18,
   "id": "7e7bc72b",
   "metadata": {},
   "outputs": [
    {
     "data": {
      "image/png": "[encoded data removed]",
      "text/plain": [
       "<Figure size 1000x1000 with 1 Axes>"
      ]
     },
     "metadata": {},
     "output_type": "display_data"
    }
   ],
   "source": [
    "import matplotlib.pyplot as plt\n",
    "import numpy as np\n",
    "\n",
    "# Generate random data from a standard normal distribution\n",
    "data = np.random.randn(10000000)  # 1Cr data points\n",
    "\n",
    "# Create the plot\n",
    "fig, ax = plt.subplots(figsize=(10, 10))\n",
    "\n",
    "# Plot the histogram\n",
    "n, bins, patches = ax.hist(data, bins=1000, color='blue', label='Histogram')\n",
    "\n",
    "# Identify the bins within the range -1 to 1\n",
    "for patch, bin_left, bin_right in zip(patches, bins[:-1], bins[1:]):\n",
    "    if -1 <= bin_left <= 1 or -1 <= bin_right <= 1:\n",
    "        patch.set_facecolor('yellowgreen')  # Set the color for bins within the range -1 to 1\n",
    "    elif -2 <= bin_left <= 2 or -2 <= bin_right <= 2:\n",
    "        patch.set_facecolor('lawngreen')\n",
    "    elif -3 <= bin_left <= 3 or -3 <= bin_right <= 3:\n",
    "        patch.set_facecolor('lightgreen')\n",
    "    else:\n",
    "        patch.set_facecolor('green')   # Set the default color for other bins\n",
    "\n",
    "# Add labels and legend\n",
    "ax.set_title('68-95-99.7 Rule in Normal Distribution')\n",
    "ax.set_xlabel('Data Values')\n",
    "ax.set_ylabel('Probability Density')\n",
    "\n",
    "plt.show()"
   ]
  },
  {
   "cell_type": "code",
   "execution_count": null,
   "id": "83d3f8e3",
   "metadata": {},
   "outputs": [],
   "source": []
  }
 ],
 "metadata": {
  "kernelspec": {
   "display_name": "Python 3 (ipykernel)",
   "language": "python",
   "name": "python3"
  },
  "language_info": {
   "codemirror_mode": {
    "name": "ipython",
    "version": 3
   },
   "file_extension": ".py",
   "mimetype": "text/x-python",
   "name": "python",
   "nbconvert_exporter": "python",
   "pygments_lexer": "ipython3",
   "version": "3.10.6"
  }
 },
 "nbformat": 4,
 "nbformat_minor": 5
}
